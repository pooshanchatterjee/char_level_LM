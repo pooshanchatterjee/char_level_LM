{
  "cells": [
    {
      "cell_type": "code",
      "source": [
        "from google.colab import drive\n",
        "drive.mount('/content/drive')"
      ],
      "metadata": {
        "colab": {
          "base_uri": "https://localhost:8080/"
        },
        "id": "z1kSkjUCHEzr",
        "outputId": "621258f9-b4fc-4347-9bd0-c87083a85a55"
      },
      "execution_count": 1,
      "outputs": [
        {
          "output_type": "stream",
          "name": "stdout",
          "text": [
            "Mounted at /content/drive\n"
          ]
        }
      ]
    },
    {
      "cell_type": "code",
      "source": [
        "names = r\"/content/drive/MyDrive/NLP/Project/names.txt\""
      ],
      "metadata": {
        "id": "H5iqkZxJHO9O"
      },
      "execution_count": 2,
      "outputs": []
    },
    {
      "cell_type": "code",
      "execution_count": 3,
      "metadata": {
        "id": "Jx_-anmzECxG"
      },
      "outputs": [],
      "source": [
        "import torch\n",
        "import torch.nn.functional as F\n",
        "import matplotlib.pyplot as plt # for making figures\n",
        "%matplotlib inline"
      ]
    },
    {
      "cell_type": "code",
      "execution_count": 4,
      "metadata": {
        "colab": {
          "base_uri": "https://localhost:8080/"
        },
        "id": "c8gJ4VE7ECxO",
        "outputId": "4a391bb0-1aa9-40b3-d58a-cbe3987b8a6c"
      },
      "outputs": [
        {
          "output_type": "execute_result",
          "data": {
            "text/plain": [
              "['emma', 'olivia', 'ava', 'isabella', 'sophia', 'charlotte', 'mia', 'amelia']"
            ]
          },
          "metadata": {},
          "execution_count": 4
        }
      ],
      "source": [
        "# read in all the words\n",
        "words = open(names, 'r').read().splitlines()\n",
        "words[:8]"
      ]
    },
    {
      "cell_type": "code",
      "execution_count": 5,
      "metadata": {
        "colab": {
          "base_uri": "https://localhost:8080/"
        },
        "id": "RKvMzoBgECxQ",
        "outputId": "52687b3c-60f5-4e6f-cd4a-9b403f1b9cf5"
      },
      "outputs": [
        {
          "output_type": "execute_result",
          "data": {
            "text/plain": [
              "32033"
            ]
          },
          "metadata": {},
          "execution_count": 5
        }
      ],
      "source": [
        "len(words)"
      ]
    },
    {
      "cell_type": "code",
      "execution_count": 6,
      "metadata": {
        "colab": {
          "base_uri": "https://localhost:8080/"
        },
        "id": "34PS1Df1ECxR",
        "outputId": "00689d18-4051-460d-d2e9-a091bfde47eb"
      },
      "outputs": [
        {
          "output_type": "stream",
          "name": "stdout",
          "text": [
            "{1: 'a', 2: 'b', 3: 'c', 4: 'd', 5: 'e', 6: 'f', 7: 'g', 8: 'h', 9: 'i', 10: 'j', 11: 'k', 12: 'l', 13: 'm', 14: 'n', 15: 'o', 16: 'p', 17: 'q', 18: 'r', 19: 's', 20: 't', 21: 'u', 22: 'v', 23: 'w', 24: 'x', 25: 'y', 26: 'z', 0: '.'}\n"
          ]
        }
      ],
      "source": [
        "# build the vocabulary of characters and mappings to/from integers\n",
        "chars = sorted(list(set(''.join(words))))\n",
        "stoi = {s:i+1 for i,s in enumerate(chars)}\n",
        "stoi['.'] = 0\n",
        "itos = {i:s for s,i in stoi.items()}\n",
        "print(itos)"
      ]
    },
    {
      "cell_type": "code",
      "execution_count": 20,
      "metadata": {
        "id": "TYGX-8aQECxS"
      },
      "outputs": [],
      "source": [
        "# # build the dataset\n",
        "\n",
        "# block_size = 3 # context length: how many characters do we take to predict the next one?\n",
        "# X, Y = [], []\n",
        "# for w in words:\n",
        "\n",
        "#   #print(w)\n",
        "#   context = [0] * block_size\n",
        "#   for ch in w + '.':\n",
        "#     ix = stoi[ch]\n",
        "#     X.append(context)\n",
        "#     Y.append(ix)\n",
        "#     #print(''.join(itos[i] for i in context), '--->', itos[ix])\n",
        "#     context = context[1:] + [ix] # crop and append\n",
        "\n",
        "# X = torch.tensor(X)\n",
        "# Y = torch.tensor(Y)"
      ]
    },
    {
      "cell_type": "code",
      "execution_count": 21,
      "metadata": {
        "colab": {
          "base_uri": "https://localhost:8080/"
        },
        "id": "G93LoQ-UECxT",
        "outputId": "435fd091-86b2-435d-c529-26574500a791"
      },
      "outputs": [
        {
          "output_type": "execute_result",
          "data": {
            "text/plain": [
              "(torch.Size([228146, 3]), torch.int64, torch.Size([228146]), torch.int64)"
            ]
          },
          "metadata": {},
          "execution_count": 21
        }
      ],
      "source": [
        "# X.shape, X.dtype, Y.shape, Y.dtype"
      ]
    },
    {
      "cell_type": "code",
      "execution_count": 42,
      "metadata": {
        "colab": {
          "base_uri": "https://localhost:8080/"
        },
        "id": "X5MX4QR9ECxT",
        "outputId": "640e8c39-00f7-4fc4-95f3-1bbb0803796f"
      },
      "outputs": [
        {
          "output_type": "stream",
          "name": "stdout",
          "text": [
            "torch.Size([182437, 3]) torch.Size([182437])\n",
            "torch.Size([22781, 3]) torch.Size([22781])\n",
            "torch.Size([22928, 3]) torch.Size([22928])\n"
          ]
        }
      ],
      "source": [
        "# build the dataset\n",
        "block_size = 3 # context length: how many characters do we take to predict the next one?\n",
        "\n",
        "def build_dataset(words):\n",
        "  X, Y = [], []\n",
        "  for w in words:\n",
        "\n",
        "    #print(w)\n",
        "    context = [0] * block_size\n",
        "    for ch in w + '.':\n",
        "      ix = stoi[ch]\n",
        "      X.append(context)\n",
        "      Y.append(ix)\n",
        "      #print(''.join(itos[i] for i in context), '--->', itos[ix])\n",
        "      context = context[1:] + [ix] # crop and append\n",
        "\n",
        "  X = torch.tensor(X)\n",
        "  Y = torch.tensor(Y)\n",
        "  print(X.shape, Y.shape)\n",
        "  return X, Y\n",
        "\n",
        "import random\n",
        "random.seed(42)\n",
        "random.shuffle(words)\n",
        "n1 = int(0.8*len(words))\n",
        "n2 = int(0.9*len(words))\n",
        "\n",
        "Xtr, Ytr = build_dataset(words[:n1])\n",
        "Xdev, Ydev = build_dataset(words[n1:n2])\n",
        "Xte, Yte = build_dataset(words[n2:])\n"
      ]
    },
    {
      "cell_type": "code",
      "execution_count": null,
      "metadata": {
        "id": "2X9B9_UnECxX"
      },
      "outputs": [],
      "source": [
        "# C = torch.randn((27, 2))"
      ]
    },
    {
      "cell_type": "code",
      "execution_count": null,
      "metadata": {
        "colab": {
          "base_uri": "https://localhost:8080/"
        },
        "id": "3a54i8xEECxX",
        "outputId": "67874db8-8dca-441a-a593-6bdebbb218a4"
      },
      "outputs": [
        {
          "output_type": "execute_result",
          "data": {
            "text/plain": [
              "torch.Size([228146, 3, 2])"
            ]
          },
          "metadata": {},
          "execution_count": 13
        }
      ],
      "source": [
        "# emb = C[X]\n",
        "# emb.shape"
      ]
    },
    {
      "cell_type": "code",
      "execution_count": null,
      "metadata": {
        "id": "0Rky6pKkECxY"
      },
      "outputs": [],
      "source": [
        "# W1 = torch.randn((6, 100))\n",
        "# b1 = torch.randn(100)"
      ]
    },
    {
      "cell_type": "code",
      "execution_count": null,
      "metadata": {
        "id": "cUApSlEOECxZ"
      },
      "outputs": [],
      "source": [
        "# h = torch.tanh(emb.view(-1, 6) @ W1 + b1)"
      ]
    },
    {
      "cell_type": "code",
      "execution_count": null,
      "metadata": {
        "colab": {
          "base_uri": "https://localhost:8080/"
        },
        "id": "O2zgFJlXECxa",
        "outputId": "b4a508d9-deae-4517-d063-19a20c963248"
      },
      "outputs": [
        {
          "output_type": "execute_result",
          "data": {
            "text/plain": [
              "tensor([[-1.0000,  0.8766, -0.4854,  ...,  1.0000, -0.1930, -0.9999],\n",
              "        [-0.9999,  0.7718, -0.8556,  ...,  1.0000,  0.9999, -0.9991],\n",
              "        [-0.2328,  0.8957, -0.2904,  ...,  0.9714,  1.0000, -0.9995],\n",
              "        ...,\n",
              "        [-1.0000, -0.5749,  0.9966,  ...,  0.7584, -0.9924, -0.9999],\n",
              "        [-0.8289,  0.7501,  0.7784,  ...,  0.9999,  0.1704, -0.9945],\n",
              "        [-1.0000,  0.9629,  0.9994,  ..., -0.9926,  0.5857, -0.9682]])"
            ]
          },
          "metadata": {},
          "execution_count": 16
        }
      ],
      "source": [
        "# h"
      ]
    },
    {
      "cell_type": "code",
      "execution_count": null,
      "metadata": {
        "colab": {
          "base_uri": "https://localhost:8080/"
        },
        "id": "rAh68ErlECxa",
        "outputId": "fbcea7fb-54cf-4f68-bda6-9f4dfdd6b97d"
      },
      "outputs": [
        {
          "output_type": "execute_result",
          "data": {
            "text/plain": [
              "torch.Size([228146, 100])"
            ]
          },
          "metadata": {},
          "execution_count": 17
        }
      ],
      "source": [
        "# h.shape"
      ]
    },
    {
      "cell_type": "code",
      "execution_count": null,
      "metadata": {
        "id": "mi6BHCqHECxb"
      },
      "outputs": [],
      "source": [
        "# W2 = torch.randn((100, 27))\n",
        "# b2 = torch.randn(27)"
      ]
    },
    {
      "cell_type": "code",
      "execution_count": null,
      "metadata": {
        "id": "LPczannXECxb"
      },
      "outputs": [],
      "source": [
        "# logits = h @ W2 + b2"
      ]
    },
    {
      "cell_type": "code",
      "execution_count": null,
      "metadata": {
        "colab": {
          "base_uri": "https://localhost:8080/"
        },
        "id": "JCJY4HhYECxb",
        "outputId": "dbbf47e5-e79b-44a6-ca09-794eb6b345d8"
      },
      "outputs": [
        {
          "output_type": "execute_result",
          "data": {
            "text/plain": [
              "torch.Size([228146, 27])"
            ]
          },
          "metadata": {},
          "execution_count": 20
        }
      ],
      "source": [
        "# logits.shape"
      ]
    },
    {
      "cell_type": "code",
      "execution_count": null,
      "metadata": {
        "id": "8QFYt7ReECxf"
      },
      "outputs": [],
      "source": [
        "# counts = logits.exp()"
      ]
    },
    {
      "cell_type": "code",
      "execution_count": null,
      "metadata": {
        "id": "5iLsQam_ECxg"
      },
      "outputs": [],
      "source": [
        "# prob = counts / counts.sum(1, keepdims=True)"
      ]
    },
    {
      "cell_type": "code",
      "execution_count": null,
      "metadata": {
        "colab": {
          "base_uri": "https://localhost:8080/"
        },
        "id": "owNZw27BECxh",
        "outputId": "80ae095f-f71f-4235-c214-9c62083ad7da"
      },
      "outputs": [
        {
          "output_type": "execute_result",
          "data": {
            "text/plain": [
              "torch.Size([228146, 27])"
            ]
          },
          "metadata": {},
          "execution_count": 23
        }
      ],
      "source": [
        "# prob.shape"
      ]
    },
    {
      "cell_type": "code",
      "source": [
        "# Y.shape"
      ],
      "metadata": {
        "colab": {
          "base_uri": "https://localhost:8080/"
        },
        "id": "dBeO35UEIALt",
        "outputId": "e4485e19-98cc-46ec-a646-0fef26d1eb1d"
      },
      "execution_count": null,
      "outputs": [
        {
          "output_type": "execute_result",
          "data": {
            "text/plain": [
              "torch.Size([228146])"
            ]
          },
          "metadata": {},
          "execution_count": 24
        }
      ]
    },
    {
      "cell_type": "code",
      "execution_count": null,
      "metadata": {
        "colab": {
          "base_uri": "https://localhost:8080/"
        },
        "id": "TZ-J2MJ5ECxi",
        "outputId": "f3b97f11-0fc1-4e69-98d4-c8a7c3db3208"
      },
      "outputs": [
        {
          "output_type": "execute_result",
          "data": {
            "text/plain": [
              "tensor(14.8316)"
            ]
          },
          "metadata": {},
          "execution_count": 25
        }
      ],
      "source": [
        "# loss = -prob[torch.arange(228146), Y].log().mean()\n",
        "# loss"
      ]
    },
    {
      "cell_type": "code",
      "execution_count": 23,
      "metadata": {
        "id": "H3848jYcECxi"
      },
      "outputs": [],
      "source": [
        "# code made more crispy"
      ]
    },
    {
      "cell_type": "code",
      "execution_count": 24,
      "metadata": {
        "colab": {
          "base_uri": "https://localhost:8080/"
        },
        "id": "CGMq24rqECxj",
        "outputId": "0daa64fe-234c-4326-abc3-7bcd15d3f7de"
      },
      "outputs": [
        {
          "output_type": "execute_result",
          "data": {
            "text/plain": [
              "(torch.Size([182625, 3]), torch.Size([182625]))"
            ]
          },
          "metadata": {},
          "execution_count": 24
        }
      ],
      "source": [
        "Xtr.shape, Ytr.shape # dataset"
      ]
    },
    {
      "cell_type": "code",
      "source": [
        "# 2 dimensional C architecture with 100 nodes\n",
        "g = torch.Generator().manual_seed(2147483647) # for reproducibility\n",
        "C = torch.randn((27, 2), generator=g)\n",
        "W1 = torch.randn((6, 100), generator=g)\n",
        "b1 = torch.randn(100, generator=g)\n",
        "W2 = torch.randn((100, 27), generator=g)\n",
        "b2 = torch.randn(27, generator=g)\n",
        "parameters = [C, W1, b1, W2, b2]"
      ],
      "metadata": {
        "id": "lQBFAHUNISmN"
      },
      "execution_count": 8,
      "outputs": []
    },
    {
      "cell_type": "code",
      "source": [
        "# 2 dimensional C architecture with 200 nodes\n",
        "g = torch.Generator().manual_seed(2147483647) # for reproducibility\n",
        "C = torch.randn((27, 2), generator=g)\n",
        "W1 = torch.randn((6, 200), generator=g)\n",
        "b1 = torch.randn(200, generator=g)\n",
        "W2 = torch.randn((200, 27), generator=g)\n",
        "b2 = torch.randn(27, generator=g)\n",
        "parameters = [C, W1, b1, W2, b2]"
      ],
      "metadata": {
        "id": "FKNCSJjcbRAK"
      },
      "execution_count": 27,
      "outputs": []
    },
    {
      "cell_type": "code",
      "execution_count": 43,
      "metadata": {
        "id": "MBBr8NKRECxk"
      },
      "outputs": [],
      "source": [
        "# 10 dimensional C architecture with 200 nodes\n",
        "g = torch.Generator().manual_seed(2147483647) # for reproducibility\n",
        "C = torch.randn((27, 10), generator=g)\n",
        "W1 = torch.randn((30, 200), generator=g)\n",
        "b1 = torch.randn(200, generator=g)\n",
        "W2 = torch.randn((200, 27), generator=g)\n",
        "b2 = torch.randn(27, generator=g)\n",
        "parameters = [C, W1, b1, W2, b2]"
      ]
    },
    {
      "cell_type": "code",
      "execution_count": 9,
      "metadata": {
        "colab": {
          "base_uri": "https://localhost:8080/"
        },
        "id": "hWiFTXJ8ECxk",
        "outputId": "7fabe882-0d29-483d-bb9e-9ccda949b7ff"
      },
      "outputs": [
        {
          "output_type": "execute_result",
          "data": {
            "text/plain": [
              "3481"
            ]
          },
          "metadata": {},
          "execution_count": 9
        }
      ],
      "source": [
        "sum(p.nelement() for p in parameters) # number of parameters in total in 2d arch 100 nodes--> 3481"
      ]
    },
    {
      "cell_type": "code",
      "source": [
        "sum(p.nelement() for p in parameters) # number of parameters in total in 2d arch 200 nodes--> 6881"
      ],
      "metadata": {
        "colab": {
          "base_uri": "https://localhost:8080/"
        },
        "id": "6-h07aExen1K",
        "outputId": "dd1527e1-dfe6-449e-d43a-930bb9fddf65"
      },
      "execution_count": 28,
      "outputs": [
        {
          "output_type": "execute_result",
          "data": {
            "text/plain": [
              "6881"
            ]
          },
          "metadata": {},
          "execution_count": 28
        }
      ]
    },
    {
      "cell_type": "code",
      "source": [
        "sum(p.nelement() for p in parameters) # number of parameters in total for 10D arch 200 nodes--> 11897"
      ],
      "metadata": {
        "colab": {
          "base_uri": "https://localhost:8080/"
        },
        "id": "D-Tjaj1CYTCQ",
        "outputId": "d32ef3c0-c512-436f-97b0-813d14ddb7a0"
      },
      "execution_count": 44,
      "outputs": [
        {
          "output_type": "execute_result",
          "data": {
            "text/plain": [
              "11897"
            ]
          },
          "metadata": {},
          "execution_count": 44
        }
      ]
    },
    {
      "cell_type": "code",
      "execution_count": 45,
      "metadata": {
        "id": "_XP1cJYgECxl"
      },
      "outputs": [],
      "source": [
        "for p in parameters:\n",
        "  p.requires_grad = True"
      ]
    },
    {
      "cell_type": "code",
      "execution_count": 46,
      "metadata": {
        "id": "KXxi69fAECxl"
      },
      "outputs": [],
      "source": [
        "lre = torch.linspace(-3, 0, 1000)\n",
        "lrs = 10**lre"
      ]
    },
    {
      "cell_type": "code",
      "execution_count": 47,
      "metadata": {
        "id": "-ZZXYVimECxl"
      },
      "outputs": [],
      "source": [
        "lri = []\n",
        "lossi = []\n",
        "stepi = []"
      ]
    },
    {
      "cell_type": "code",
      "source": [
        "# 2d arch training with 100/200 nodes:\n",
        "\n",
        "for i in range(200000):\n",
        "\n",
        "  # minibatch construct\n",
        "  ix = torch.randint(0, Xtr.shape[0], (32,))\n",
        "\n",
        "  # forward pass\n",
        "  emb = C[Xtr[ix]] # (32, 3, 10)\n",
        "  h = torch.tanh(emb.view(-1, 6) @ W1 + b1) # (32, 200)\n",
        "  logits = h @ W2 + b2 # (32, 27)\n",
        "  loss = F.cross_entropy(logits, Ytr[ix])\n",
        "  #print(loss.item())\n",
        "\n",
        "  # backward pass\n",
        "  for p in parameters:\n",
        "    p.grad = None\n",
        "  loss.backward()\n",
        "\n",
        "  # update\n",
        "  #lr = lrs[i]\n",
        "  lr = 0.1 if i < 100000 else 0.01\n",
        "  for p in parameters:\n",
        "    p.data += -lr * p.grad\n",
        "\n",
        "  # track stats\n",
        "  #lri.append(lre[i])\n",
        "  stepi.append(i)\n",
        "  lossi.append(loss.log10().item())\n",
        "\n",
        "#print(loss.item())"
      ],
      "metadata": {
        "id": "SdFi5YSBet8Q"
      },
      "execution_count": 32,
      "outputs": []
    },
    {
      "cell_type": "code",
      "execution_count": 48,
      "metadata": {
        "id": "UkMgDplgECxm"
      },
      "outputs": [],
      "source": [
        "# 10d arch training with 200 nodes\n",
        "for i in range(200000):\n",
        "\n",
        "  # minibatch construct\n",
        "  ix = torch.randint(0, Xtr.shape[0], (32,))\n",
        "\n",
        "  # forward pass\n",
        "  emb = C[Xtr[ix]] # (32, 3, 10)\n",
        "  h = torch.tanh(emb.view(-1, 30) @ W1 + b1) # (32, 200)\n",
        "  logits = h @ W2 + b2 # (32, 27)\n",
        "  loss = F.cross_entropy(logits, Ytr[ix])\n",
        "  #print(loss.item())\n",
        "\n",
        "  # backward pass\n",
        "  for p in parameters:\n",
        "    p.grad = None\n",
        "  loss.backward()\n",
        "\n",
        "  # update\n",
        "  #lr = lrs[i]\n",
        "  lr = 0.1 if i < 100000 else 0.01\n",
        "  for p in parameters:\n",
        "    p.data += -lr * p.grad\n",
        "\n",
        "  # track stats\n",
        "  #lri.append(lre[i])\n",
        "  stepi.append(i)\n",
        "  lossi.append(loss.log10().item())\n",
        "\n",
        "#print(loss.item())"
      ]
    },
    {
      "cell_type": "code",
      "execution_count": 14,
      "metadata": {
        "id": "TVxjZ_CrECxm",
        "colab": {
          "base_uri": "https://localhost:8080/",
          "height": 447
        },
        "outputId": "9c1f6a67-8b19-40a2-8998-922b1e4c10ad"
      },
      "outputs": [
        {
          "output_type": "execute_result",
          "data": {
            "text/plain": [
              "[<matplotlib.lines.Line2D at 0x7d2d2bb3ad10>]"
            ]
          },
          "metadata": {},
          "execution_count": 14
        },
        {
          "output_type": "display_data",
          "data": {
            "text/plain": [
              "<Figure size 640x480 with 1 Axes>"
            ],
            "image/png": "[encoded data removed]"
          },
          "metadata": {}
        }
      ],
      "source": [
        "plt.plot(stepi, lossi) # for 2d 100 nodes"
      ]
    },
    {
      "cell_type": "code",
      "source": [
        "plt.plot(stepi, lossi) # for 2d 200 nodes"
      ],
      "metadata": {
        "colab": {
          "base_uri": "https://localhost:8080/",
          "height": 447
        },
        "id": "RMeN0Ie6fEwY",
        "outputId": "006495f4-2f9d-4126-ec02-c2a49eba0c4b"
      },
      "execution_count": 33,
      "outputs": [
        {
          "output_type": "execute_result",
          "data": {
            "text/plain": [
              "[<matplotlib.lines.Line2D at 0x7d2df4ce90c0>]"
            ]
          },
          "metadata": {},
          "execution_count": 33
        },
        {
          "output_type": "display_data",
          "data": {
            "text/plain": [
              "<Figure size 640x480 with 1 Axes>"
            ],
            "image/png": "[encoded data removed]"
          },
          "metadata": {}
        }
      ]
    },
    {
      "cell_type": "code",
      "source": [
        "plt.plot(stepi, lossi) # for 10d 200 nodes"
      ],
      "metadata": {
        "colab": {
          "base_uri": "https://localhost:8080/",
          "height": 447
        },
        "id": "IwG0RX8rZmWi",
        "outputId": "37a73c29-5f14-4084-a5a6-7a133c186213"
      },
      "execution_count": 49,
      "outputs": [
        {
          "output_type": "execute_result",
          "data": {
            "text/plain": [
              "[<matplotlib.lines.Line2D at 0x7d2d2bbc04f0>]"
            ]
          },
          "metadata": {},
          "execution_count": 49
        },
        {
          "output_type": "display_data",
          "data": {
            "text/plain": [
              "<Figure size 640x480 with 1 Axes>"
            ],
            "image/png": "[encoded data removed]"
          },
          "metadata": {}
        }
      ]
    },
    {
      "cell_type": "code",
      "source": [
        "# checking loss for 2D arch"
      ],
      "metadata": {
        "id": "zZ70rMZhYm3b"
      },
      "execution_count": null,
      "outputs": []
    },
    {
      "cell_type": "code",
      "source": [
        "emb = C[Xtr] # (32, 3, 2)\n",
        "h = torch.tanh(emb.view(-1, 6) @ W1 + b1) # (32, 100)\n",
        "logits = h @ W2 + b2 # (32, 27)\n",
        "loss = F.cross_entropy(logits, Ytr)\n",
        "loss #2.2527 #2.2261"
      ],
      "metadata": {
        "colab": {
          "base_uri": "https://localhost:8080/"
        },
        "id": "2JogSG2LYqcL",
        "outputId": "e95ae34d-97c3-4339-a4ca-b286f18682a7"
      },
      "execution_count": 34,
      "outputs": [
        {
          "output_type": "execute_result",
          "data": {
            "text/plain": [
              "tensor(2.2261, grad_fn=<NllLossBackward0>)"
            ]
          },
          "metadata": {},
          "execution_count": 34
        }
      ]
    },
    {
      "cell_type": "code",
      "source": [
        "emb = C[Xdev] # (32, 3, 2)\n",
        "h = torch.tanh(emb.view(-1, 6) @ W1 + b1) # (32, 100)\n",
        "logits = h @ W2 + b2 # (32, 27)\n",
        "loss = F.cross_entropy(logits, Ydev)\n",
        "loss #2.2537 #2.2341"
      ],
      "metadata": {
        "colab": {
          "base_uri": "https://localhost:8080/"
        },
        "id": "x4spVT9oYqn0",
        "outputId": "30885101-3bbc-442c-d371-cc66050b19d6"
      },
      "execution_count": 35,
      "outputs": [
        {
          "output_type": "execute_result",
          "data": {
            "text/plain": [
              "tensor(2.2341, grad_fn=<NllLossBackward0>)"
            ]
          },
          "metadata": {},
          "execution_count": 35
        }
      ]
    },
    {
      "cell_type": "code",
      "source": [
        "# 2d arch 100 nodes\n",
        "# First up we can see that with this implementation we have already surpassed the accuracy of our bigram model.\n",
        "# We see above that the training loss (2.2527) and the developement loss (2.2537) is almost similar, it basically means that the has too less of a parameter.\n",
        "# and the model will benefit with icreasing the number of parameters.\n",
        "# so we increase the number of nodes from 100 to 200 in the hidden layer"
      ],
      "metadata": {
        "id": "WnaXrRc3ZuRm"
      },
      "execution_count": 44,
      "outputs": []
    },
    {
      "cell_type": "code",
      "source": [
        "# 2d arch 200 nodes\n",
        "# On increasing the number of nodes in the hidden layer from 100 nodes to 200 nodes\n",
        "# we see training loss decreasing to 2.2261 from 2.2527\n",
        "# and dev loss decreasing to 2.2341 from 2.2537\n",
        "# One more thing to notice is that the two losses are now going apart from each other unlike in the previous case.\n",
        "# this means model is slowly starting to overfit so we will stop increasing number of nodes.\n",
        "# now the constraint in our model maybe the dimension of our embedding space. Maybe we are trying to cram too\n",
        "# many characters in 2-dimensions so we will increase the number of dimensions to 10."
      ],
      "metadata": {
        "id": "tF5RTrwamPr0"
      },
      "execution_count": 41,
      "outputs": []
    },
    {
      "cell_type": "code",
      "source": [
        "# 10d arch and 200 nodes\n"
      ],
      "metadata": {
        "id": "tryze1qnp9Sb"
      },
      "execution_count": null,
      "outputs": []
    },
    {
      "cell_type": "code",
      "source": [
        "# checking loss for 10D arch"
      ],
      "metadata": {
        "id": "qbpGfOerYij4"
      },
      "execution_count": null,
      "outputs": []
    },
    {
      "cell_type": "code",
      "execution_count": 50,
      "metadata": {
        "id": "Yn-rgYkYECxn",
        "colab": {
          "base_uri": "https://localhost:8080/"
        },
        "outputId": "efae1357-c481-47a2-9e7c-58e654bbfe33"
      },
      "outputs": [
        {
          "output_type": "execute_result",
          "data": {
            "text/plain": [
              "tensor(2.1226, grad_fn=<NllLossBackward0>)"
            ]
          },
          "metadata": {},
          "execution_count": 50
        }
      ],
      "source": [
        "emb = C[Xtr] # (32, 3, 2)\n",
        "h = torch.tanh(emb.view(-1, 30) @ W1 + b1) # (32, 100)\n",
        "logits = h @ W2 + b2 # (32, 27)\n",
        "loss = F.cross_entropy(logits, Ytr)\n",
        "loss #2.1226"
      ]
    },
    {
      "cell_type": "code",
      "execution_count": 51,
      "metadata": {
        "id": "Qk2iIgpdECxn",
        "colab": {
          "base_uri": "https://localhost:8080/"
        },
        "outputId": "bcb2f000-482b-4bff-c110-4c6be5fe1d72"
      },
      "outputs": [
        {
          "output_type": "execute_result",
          "data": {
            "text/plain": [
              "tensor(2.1791, grad_fn=<NllLossBackward0>)"
            ]
          },
          "metadata": {},
          "execution_count": 51
        }
      ],
      "source": [
        "emb = C[Xdev] # (32, 3, 2)\n",
        "h = torch.tanh(emb.view(-1, 30) @ W1 + b1) # (32, 100)\n",
        "logits = h @ W2 + b2 # (32, 27)\n",
        "loss = F.cross_entropy(logits, Ydev)\n",
        "loss #2.1791"
      ]
    },
    {
      "cell_type": "code",
      "source": [
        "# As mentioned earlier we can see that on increasing the dimensionality of the embedding space we were able to decrease our\n",
        "# training loss to 2.1226 from 2.2261 and\n",
        "# dev loss to 2.1791 from 2.2341"
      ],
      "metadata": {
        "id": "HH2Lltd8tc42"
      },
      "execution_count": 59,
      "outputs": []
    },
    {
      "cell_type": "code",
      "execution_count": 52,
      "metadata": {
        "id": "dhPiBMJbECxo",
        "colab": {
          "base_uri": "https://localhost:8080/",
          "height": 676
        },
        "outputId": "95ac119c-b8d0-4ef6-81ef-fd86f8a062e2"
      },
      "outputs": [
        {
          "output_type": "display_data",
          "data": {
            "text/plain": [
              "<Figure size 800x800 with 1 Axes>"
            ],
            "image/png": "[encoded data removed]"
          },
          "metadata": {}
        }
      ],
      "source": [
        "# visualize dimensions 0 and 1 of the embedding matrix C for all characters only for 2d\n",
        "plt.figure(figsize=(8,8))\n",
        "plt.scatter(C[:,0].data, C[:,1].data, s=200)\n",
        "for i in range(C.shape[0]):\n",
        "    plt.text(C[i,0].item(), C[i,1].item(), itos[i], ha=\"center\", va=\"center\", color='white')\n",
        "plt.grid('minor')"
      ]
    },
    {
      "cell_type": "code",
      "execution_count": 37,
      "metadata": {
        "id": "OknqCFDhECxp"
      },
      "outputs": [],
      "source": [
        "# training split, dev/validation split, test split\n",
        "# 80%, 10%, 10%"
      ]
    },
    {
      "cell_type": "code",
      "execution_count": 56,
      "metadata": {
        "id": "VdSlzyuIECxp",
        "colab": {
          "base_uri": "https://localhost:8080/"
        },
        "outputId": "5a27472b-6614-436a-8789-defa6aef0773"
      },
      "outputs": [
        {
          "output_type": "execute_result",
          "data": {
            "text/plain": [
              "torch.Size([1, 3, 10])"
            ]
          },
          "metadata": {},
          "execution_count": 56
        }
      ],
      "source": [
        "context = [0] * block_size\n",
        "C[torch.tensor([context])].shape"
      ]
    },
    {
      "cell_type": "code",
      "execution_count": 58,
      "metadata": {
        "id": "sMGHxaSLECxq",
        "colab": {
          "base_uri": "https://localhost:8080/"
        },
        "outputId": "422a3884-0ef9-4b9a-890a-b91057e198e8"
      },
      "outputs": [
        {
          "output_type": "stream",
          "name": "stdout",
          "text": [
            "mona.\n",
            "mayah.\n",
            "keer.\n",
            "nihayla.\n",
            "remyrsleydrami.\n",
            "azeredielin.\n",
            "shi.\n",
            "jenleigh.\n",
            "esmana.\n",
            "lelyzion.\n",
            "kamin.\n",
            "shabnrgyliniel.\n",
            "kendretlynn.\n",
            "novanfi.\n",
            "brey.\n",
            "dariyah.\n",
            "fael.\n",
            "yuma.\n",
            "misklynn.\n",
            "hal.\n"
          ]
        }
      ],
      "source": [
        "\n",
        "\n",
        "# sample from the model\n",
        "g = torch.Generator().manual_seed(2147483647 + 10)\n",
        "\n",
        "for _ in range(20):\n",
        "\n",
        "    out = []\n",
        "    context = [0] * block_size # initialize with all ...\n",
        "    while True:\n",
        "      emb = C[torch.tensor([context])] # (1,block_size,d)\n",
        "      h = torch.tanh(emb.view(1, -1) @ W1 + b1)\n",
        "      logits = h @ W2 + b2\n",
        "      probs = F.softmax(logits, dim=1)\n",
        "      ix = torch.multinomial(probs, num_samples=1, generator=g).item()\n",
        "      context = context[1:] + [ix]\n",
        "      out.append(ix)\n",
        "      if ix == 0:\n",
        "        break\n",
        "\n",
        "    print(''.join(itos[i] for i in out))"
      ]
    },
    {
      "cell_type": "code",
      "execution_count": 36,
      "metadata": {
        "id": "Oe2FbCrVECxq"
      },
      "outputs": [],
      "source": [
        "# unique names generated by the 2D architecture 100 nodes\n",
        "\n",
        "# mora.\n",
        "# amyannieel.\n",
        "# ndhryal.\n",
        "# rethrucejdrari.\n",
        "# aderedielin.\n",
        "# shy.\n",
        "# jelle.\n",
        "# elies.\n",
        "# anar.\n",
        "# kayzion.\n",
        "# karin.\n",
        "# shubergshiriel.\n",
        "# kin.\n",
        "# reteliph.\n",
        "# thana.\n",
        "# uba.\n",
        "# ged.\n",
        "# ruyahleyeh.\n",
        "# yoma.\n",
        "# mystolen.\n",
        "\n",
        "# mora.\n",
        "# mayah.\n",
        "# seel.\n",
        "# nihahalarethastendrlee.\n",
        "# adered.\n",
        "# elie.\n",
        "# shi.\n",
        "# jen.\n",
        "# edelieso.\n",
        "# narleiyah.\n",
        "# hokelin.\n",
        "# shub.\n",
        "# rishiriel.\n",
        "# kin.\n",
        "# renelipanteroni.\n",
        "# bemyed.\n",
        "# ryy.\n",
        "# julynn.\n",
        "# yuma.\n",
        "# mystolan."
      ]
    },
    {
      "cell_type": "code",
      "source": [
        "# unique names generated by the 2D architecture 200 nodes\n",
        "\n",
        "# mora.\n",
        "# mayah.\n",
        "# seel.\n",
        "# nichyla.\n",
        "# rethan.\n",
        "# endra.\n",
        "# gra.\n",
        "# ched.\n",
        "# eliah.\n",
        "# milopaleigh.\n",
        "# cananar.\n",
        "# kayzioh.\n",
        "# kalin.\n",
        "# shabergshiriel.\n",
        "# kin.\n",
        "# reelynn.\n",
        "# nopulan.\n",
        "# breyce.\n",
        "# ryyah.\n",
        "# fael."
      ],
      "metadata": {
        "id": "JoWQEcEVZI5o"
      },
      "execution_count": 36,
      "outputs": []
    },
    {
      "cell_type": "code",
      "source": [
        "# unique names generated by the 10D architecture 200 nodes\n",
        "\n",
        "# mona.\n",
        "# mayah.\n",
        "# keer.\n",
        "# nihayla.\n",
        "# remyrsleydrami.\n",
        "# azeredielin.\n",
        "# shi.\n",
        "# jenleigh.\n",
        "# esmana.\n",
        "# lelyzion.\n",
        "# kamin.\n",
        "# shabnrgyliniel.\n",
        "# kendretlynn.\n",
        "# novanfi.\n",
        "# brey.\n",
        "# dariyah.\n",
        "# fael.\n",
        "# yuma.\n",
        "# misklynn.\n",
        "# hal."
      ],
      "metadata": {
        "id": "2r9LF10gfn6P"
      },
      "execution_count": null,
      "outputs": []
    }
  ],
  "metadata": {
    "kernelspec": {
      "display_name": "Python 3",
      "language": "python",
      "name": "python3"
    },
    "language_info": {
      "codemirror_mode": {
        "name": "ipython",
        "version": 3
      },
      "file_extension": ".py",
      "mimetype": "text/x-python",
      "name": "python",
      "nbconvert_exporter": "python",
      "pygments_lexer": "ipython3",
      "version": "3.8.5"
    },
    "colab": {
      "provenance": []
    }
  },
  "nbformat": 4,
  "nbformat_minor": 0
}